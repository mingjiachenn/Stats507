{
 "cells": [
  {
   "cell_type": "markdown",
   "id": "4cd57737",
   "metadata": {},
   "source": [
    "# Question 0 - Markdown warmup"
   ]
  },
  {
   "cell_type": "markdown",
   "id": "8a0092d2",
   "metadata": {},
   "source": [
    "This is *question 0* for [problem set 1](https://jbhender.github.io/Stats507/F21/ps/ps1.html) of [Stats 507](https://jbhender.github.io/Stats507/F21/).\n",
    ">Question 0 is about Markdown.\n",
    "\n",
    "The next question is about the **Fibonnaci sequence**, *Fn=Fn−2+Fn−1*. In part **a** we will define a Python function `.fib_rec()`\n",
    "Below is a …\n",
    "### Level 3 Header\n",
    "Next, we can make a bulleted list:\n",
    "* Item 1\n",
    "    - detail 1\n",
    "    - detail 2\n",
    "* Item 2\n",
    "\n",
    "Finally, we can make an enumerated list:\n",
    "1. Item 1\n",
    "2. Item 2\n",
    "3. Item 3\n"
   ]
  },
  {
   "cell_type": "markdown",
   "id": "17ef3f4f",
   "metadata": {},
   "source": [
    "# Question 1 - Fibonnaci Sequence"
   ]
  },
  {
   "cell_type": "markdown",
   "id": "be584844",
   "metadata": {},
   "source": [
    "a.Write a recursive function fib_rec() that takes input n, a=0, and b=1 and returns the value of Fn for F_0 = a, and F_1 = b."
   ]
  },
  {
   "cell_type": "code",
   "execution_count": 1,
   "id": "c955fc58",
   "metadata": {},
   "outputs": [],
   "source": [
    "def fib_rec(n):\n",
    "    a,b = 0,1\n",
    "    if n == 0:\n",
    "        return a\n",
    "    elif n == 1:\n",
    "        return b\n",
    "    else:\n",
    "        return fib_rec(n-2)+fib_rec(n-1)   "
   ]
  },
  {
   "cell_type": "code",
   "execution_count": 2,
   "id": "124f341b",
   "metadata": {},
   "outputs": [
    {
     "data": {
      "text/plain": [
       "True"
      ]
     },
     "execution_count": 2,
     "metadata": {},
     "output_type": "execute_result"
    }
   ],
   "source": [
    "(fib_rec(7) == 13)and(fib_rec(11) == 89)and(fib_rec(13) == 233)"
   ]
  },
  {
   "cell_type": "markdown",
   "id": "401b7d11",
   "metadata": {},
   "source": [
    "b.Write a function fib_for() with the same signature that computes Fn by summation using a for loop."
   ]
  },
  {
   "cell_type": "code",
   "execution_count": 3,
   "id": "a29d8a8b",
   "metadata": {
    "scrolled": true
   },
   "outputs": [],
   "source": [
    "def fib_for(n):\n",
    "    a,b = 0,1\n",
    "    for i in range(n):\n",
    "        a,b = b,a+b\n",
    "    return a"
   ]
  },
  {
   "cell_type": "code",
   "execution_count": 4,
   "id": "b9db8858",
   "metadata": {
    "scrolled": true
   },
   "outputs": [
    {
     "data": {
      "text/plain": [
       "True"
      ]
     },
     "execution_count": 4,
     "metadata": {},
     "output_type": "execute_result"
    }
   ],
   "source": [
    "(fib_for(7) == 13)and(fib_for(11) == 89)and(fib_for(13) == 233)"
   ]
  },
  {
   "cell_type": "markdown",
   "id": "76fa008a",
   "metadata": {},
   "source": [
    "c.Write a function fib_whl() with the same signature that computes Fn by summation using a while loop."
   ]
  },
  {
   "cell_type": "code",
   "execution_count": 5,
   "id": "322a0644",
   "metadata": {},
   "outputs": [],
   "source": [
    "def fib_whl(n):\n",
    "    a,b = 0,1\n",
    "    i = 1\n",
    "    while i <= n:\n",
    "        a,b = b,a+b\n",
    "        i = i+1\n",
    "    return a"
   ]
  },
  {
   "cell_type": "code",
   "execution_count": 6,
   "id": "867e9f10",
   "metadata": {},
   "outputs": [
    {
     "data": {
      "text/plain": [
       "True"
      ]
     },
     "execution_count": 6,
     "metadata": {},
     "output_type": "execute_result"
    }
   ],
   "source": [
    "(fib_whl(7) == 13)and(fib_whl(11) == 89)and(fib_whl(13) == 233)"
   ]
  },
  {
   "cell_type": "markdown",
   "id": "d1014f44",
   "metadata": {},
   "source": [
    "d. Write a function fib_rnd() with the same signature that computes Fn using the rounding method."
   ]
  },
  {
   "cell_type": "code",
   "execution_count": 7,
   "id": "04140ff9",
   "metadata": {},
   "outputs": [],
   "source": [
    "import math\n",
    "def fib_rnd(n):\n",
    "    r = (1+math.sqrt(5))/2\n",
    "    return round(r**n/math.sqrt(5))"
   ]
  },
  {
   "cell_type": "code",
   "execution_count": 8,
   "id": "daab38c6",
   "metadata": {},
   "outputs": [
    {
     "data": {
      "text/plain": [
       "True"
      ]
     },
     "execution_count": 8,
     "metadata": {},
     "output_type": "execute_result"
    }
   ],
   "source": [
    "(fib_rnd(7)==13)and(fib_rnd(11)==89)and(fib_rnd(13)==233)"
   ]
  },
  {
   "cell_type": "markdown",
   "id": "d5dc21aa",
   "metadata": {},
   "source": [
    "e. Write a function fib_flr() with the same signature that computes Fn using the truncation method"
   ]
  },
  {
   "cell_type": "code",
   "execution_count": 9,
   "id": "8f8cbc84",
   "metadata": {},
   "outputs": [],
   "source": [
    "import math\n",
    "def fib_flr(n):\n",
    "    r = (1+math.sqrt(5))/2\n",
    "    return math.floor(r**n/math.sqrt(5)+1/2)"
   ]
  },
  {
   "cell_type": "code",
   "execution_count": 10,
   "id": "4f2aa556",
   "metadata": {},
   "outputs": [
    {
     "data": {
      "text/plain": [
       "True"
      ]
     },
     "execution_count": 10,
     "metadata": {},
     "output_type": "execute_result"
    }
   ],
   "source": [
    "(fib_flr(7) == 13)and(fib_flr(11) == 89)and(fib_flr(13) == 233)"
   ]
  },
  {
   "cell_type": "code",
   "execution_count": 24,
   "id": "df6a3c8a",
   "metadata": {
    "scrolled": true
   },
   "outputs": [],
   "source": [
    "from pandas import DataFrame\n",
    "import time\n",
    "import numpy as np\n",
    "\n",
    "lis = [10,20,30]\n",
    "\n",
    "# get the median computation time of fuction rec_time\n",
    "def rec_time(n):\n",
    "    tm = []\n",
    "    for i in range(30):\n",
    "        start = time.time()\n",
    "        fib_rec(n)\n",
    "        end = time.time()\n",
    "        tm.append(end-start)\n",
    "        return(np.median(tm))\n",
    "\n",
    "# get the median computation time of fuction for_time\n",
    "def for_time(n):\n",
    "    tm = []\n",
    "    for i in range(30):\n",
    "        start = time.time()\n",
    "        fib_for(n)\n",
    "        end = time.time()\n",
    "        tm.append(end-start)\n",
    "        return(np.median(tm))\n",
    "\n",
    "# get the median computation time of fuction whl_time\n",
    "def whl_time(n):\n",
    "    tm = []\n",
    "    for i in range(30):\n",
    "        start = time.time()\n",
    "        fib_whl(n)\n",
    "        end = time.time()\n",
    "        tm.append(end-start)\n",
    "        return(np.median(tm))\n",
    "    \n",
    "# get the median computation time of fuction rnd_time\n",
    "def rnd_time(n):\n",
    "    tm = []\n",
    "    for i in range(30):\n",
    "        start = time.time()\n",
    "        fib_rnd(n)\n",
    "        end = time.time()\n",
    "        tm.append(end-start)\n",
    "        return(np.median(tm))\n",
    "\n",
    "# get the median computation time of fuction flr_time\n",
    "def flr_time(n):\n",
    "    tm = []\n",
    "    for i in range(30):\n",
    "        start = time.time()\n",
    "        fib_flr(n)\n",
    "        end = time.time()\n",
    "        tm.append(end-start)\n",
    "        return(np.median(tm))\n",
    "\n",
    "data = {'fib_rec': [rec_time(lis[0]),rec_time(lis[1]),rec_time(lis[2])],\n",
    "        'fib_for': [for_time(lis[0]),for_time(lis[1]),for_time(lis[2])],\n",
    "        'fib_whl': [whl_time(lis[0]),whl_time(lis[1]),whl_time(lis[2])],\n",
    "        'fib_rnd': [rnd_time(lis[0]),rnd_time(lis[1]),rnd_time(lis[2])],\n",
    "        'fib_flr': [flr_time(lis[0]),flr_time(lis[1]),flr_time(lis[2])]}\n",
    "frame = DataFrame(data, index = lis)"
   ]
  },
  {
   "cell_type": "code",
   "execution_count": 25,
   "id": "8e2d500c",
   "metadata": {},
   "outputs": [
    {
     "data": {
      "text/html": [
       "<div>\n",
       "<style scoped>\n",
       "    .dataframe tbody tr th:only-of-type {\n",
       "        vertical-align: middle;\n",
       "    }\n",
       "\n",
       "    .dataframe tbody tr th {\n",
       "        vertical-align: top;\n",
       "    }\n",
       "\n",
       "    .dataframe thead th {\n",
       "        text-align: right;\n",
       "    }\n",
       "</style>\n",
       "<table border=\"1\" class=\"dataframe\">\n",
       "  <thead>\n",
       "    <tr style=\"text-align: right;\">\n",
       "      <th></th>\n",
       "      <th>fib_rec</th>\n",
       "      <th>fib_for</th>\n",
       "      <th>fib_whl</th>\n",
       "      <th>fib_rnd</th>\n",
       "      <th>fib_flr</th>\n",
       "    </tr>\n",
       "  </thead>\n",
       "  <tbody>\n",
       "    <tr>\n",
       "      <th>10</th>\n",
       "      <td>0.000000</td>\n",
       "      <td>0.0</td>\n",
       "      <td>0.0</td>\n",
       "      <td>0.0</td>\n",
       "      <td>0.0</td>\n",
       "    </tr>\n",
       "    <tr>\n",
       "      <th>20</th>\n",
       "      <td>0.039970</td>\n",
       "      <td>0.0</td>\n",
       "      <td>0.0</td>\n",
       "      <td>0.0</td>\n",
       "      <td>0.0</td>\n",
       "    </tr>\n",
       "    <tr>\n",
       "      <th>30</th>\n",
       "      <td>3.450315</td>\n",
       "      <td>0.0</td>\n",
       "      <td>0.0</td>\n",
       "      <td>0.0</td>\n",
       "      <td>0.0</td>\n",
       "    </tr>\n",
       "  </tbody>\n",
       "</table>\n",
       "</div>"
      ],
      "text/plain": [
       "     fib_rec  fib_for  fib_whl  fib_rnd  fib_flr\n",
       "10  0.000000      0.0      0.0      0.0      0.0\n",
       "20  0.039970      0.0      0.0      0.0      0.0\n",
       "30  3.450315      0.0      0.0      0.0      0.0"
      ]
     },
     "execution_count": 25,
     "metadata": {},
     "output_type": "execute_result"
    }
   ],
   "source": [
    "frame"
   ]
  },
  {
   "cell_type": "markdown",
   "id": "9683e0c2",
   "metadata": {},
   "source": [
    "# Question2- Pascal’s Triangle"
   ]
  },
  {
   "cell_type": "code",
   "execution_count": 13,
   "id": "acf2e07f",
   "metadata": {},
   "outputs": [],
   "source": [
    "def triangle_row(n):\n",
    "    a = 1\n",
    "    lis = [a]\n",
    "    for i in range(n):\n",
    "        i = i+1\n",
    "        a = int(a*(n+1-i)/i)\n",
    "        lis.append(a)\n",
    "    return lis"
   ]
  },
  {
   "cell_type": "code",
   "execution_count": 14,
   "id": "9e9a7954",
   "metadata": {},
   "outputs": [
    {
     "data": {
      "text/plain": [
       "[1, 5, 10, 10, 5, 1]"
      ]
     },
     "execution_count": 14,
     "metadata": {},
     "output_type": "execute_result"
    }
   ],
   "source": [
    "triangle_row(5)"
   ]
  },
  {
   "cell_type": "code",
   "execution_count": 15,
   "id": "25ae4bed",
   "metadata": {},
   "outputs": [],
   "source": [
    "def triangle(n):\n",
    "    i = 0\n",
    "    #get the length of the maximum item in the tiangle\n",
    "    if n % 2 == 0:\n",
    "        max_item = triangle_row(n)[int(n/2)]\n",
    "    else:\n",
    "        max_item = triangle_row(n)[int((n+1)/2)]\n",
    "    max_length = len(str(max_item))\n",
    "    \n",
    "    while i<= n:\n",
    "        list = triangle_row(i)\n",
    "        string = ''\n",
    "        j = 0\n",
    "        while j<len(list):\n",
    "            if j == 0:\n",
    "                string = str(list[j]).center(max_length)\n",
    "            else:\n",
    "                string = string + ' ' + str(list[j]).center(max_length)\n",
    "            j = j+1 \n",
    "            \n",
    "        print(string.center((max_length+2)*n)) #adjust the overall position of the triangle \n",
    "        i=i+1"
   ]
  },
  {
   "cell_type": "code",
   "execution_count": 16,
   "id": "a6c0dbd1",
   "metadata": {},
   "outputs": [
    {
     "name": "stdout",
     "output_type": "stream",
     "text": [
      "                                            1                                             \n",
      "                                         1    1                                           \n",
      "                                       1    2    1                                        \n",
      "                                    1    3    3    1                                      \n",
      "                                  1    4    6    4    1                                   \n",
      "                               1    5    10   10   5    1                                 \n",
      "                             1    6    15   20   15   6    1                              \n",
      "                          1    7    21   35   35   21   7    1                            \n",
      "                        1    8    28   56   70   56   28   8    1                         \n",
      "                     1    9    36   84  126  126   84   36   9    1                       \n",
      "                   1    10   45  120  210  252  210  120   45   10   1                    \n",
      "                1    11   55  165  330  462  462  330  165   55   11   1                  \n",
      "              1    12   66  220  495  792  924  792  495  220   66   12   1               \n",
      "           1    13   78  286  715  1287 1716 1716 1287 715  286   78   13   1             \n",
      "         1    14   91  364  1001 2002 3003 3432 3003 2002 1001 364   91   14   1          \n",
      "      1    15  105  455  1365 3003 5005 6435 6435 5005 3003 1365 455  105   15   1        \n"
     ]
    }
   ],
   "source": [
    "triangle(15)"
   ]
  },
  {
   "cell_type": "markdown",
   "id": "95fae25c",
   "metadata": {},
   "source": [
    "# Question 3 - Statistics 101 "
   ]
  },
  {
   "cell_type": "code",
   "execution_count": 17,
   "id": "a793bf61",
   "metadata": {},
   "outputs": [],
   "source": [
    "import numpy as np\n",
    "import scipy.stats as st\n",
    "import math"
   ]
  },
  {
   "cell_type": "markdown",
   "id": "810e1fca",
   "metadata": {},
   "source": [
    "a.return a point and interval estimate for the mean based on Normal theory"
   ]
  },
  {
   "cell_type": "code",
   "execution_count": 18,
   "id": "52a408ca",
   "metadata": {},
   "outputs": [],
   "source": [
    "def norm_est(data,inp,level):\n",
    "    x_bar,se_x = data.mean(),data.std()  #get the mean and standard error\n",
    "    z = st.norm.ppf((1+level)/2)  #get Gaussian multiplier\n",
    "    lwr = x_bar-se_x*z\n",
    "    upr = x_bar+se_x*z\n",
    "    level = str(level*100)+\"%\"\n",
    "    if inp==\"None\":\n",
    "        return {\"est\":x_bar , \"lwr\":lwr , \"upr\":upr , \"level\":level }\n",
    "    else:\n",
    "        return str(round(x_bar,4)) + \"[\" + str(level*100) + \"%\" + \"CI:\" + \"(\" + str(round(x_bar-se_x*z,4)) + \",\" + str(round(x_bar+se_x*z,4)) + \")]\""
   ]
  },
  {
   "cell_type": "markdown",
   "id": "5b39114b",
   "metadata": {},
   "source": [
    "b.compute a confidence interval based on Binomial experiment"
   ]
  },
  {
   "cell_type": "code",
   "execution_count": 19,
   "id": "311b386a",
   "metadata": {},
   "outputs": [],
   "source": [
    "def bino_est(data,method,level,inp):\n",
    "    x = sum(data==1)\n",
    "    n=data.size\n",
    "    p_hat=x/n\n",
    "    alpha = 1 - level\n",
    "    \n",
    "    #1\n",
    "    if method == \"Normal\":\n",
    "        z = st.norm.ppf((1+level)/2)\n",
    "        lwr = p_hat - z * math.sqrt(p_hat*(1-p_hat)/n)\n",
    "        upr = p_hat + z * math.sqrt(p_hat*(1-p_hat)/n)\n",
    "        level = str(level*100)+\"%\"\n",
    "        condition = min(n*p_hat,n*(1-p_hat))\n",
    "        if condition <= 12:\n",
    "            print(\"The approximation is not adequate!\")\n",
    "        if inp==\"None\":\n",
    "            return {\"est\":p_hat , \"lwr\":lwr , \"upr\":upr , \"level\":str(level*100) + \"%\"}\n",
    "        else:\n",
    "            return str(p_hat) + \"[\" + str(level*100) + \"%\" + \"CI:\" + \"(\" + str(lwr) + \",\" + str(upr) + \")]\"\n",
    "        \n",
    "    #2\n",
    "    elif method ==\"Beta\":\n",
    "        lwr = st.beta.ppf(alpha/2, x, n-x+1)\n",
    "        upr = st.beta.ppf(1-alpha/2, x+1, n-x)\n",
    "        if inp==\"None\" :\n",
    "            return {\"est\":p_hat , \"lwr\":lwr , \"upr\":upr , \"level\":str(level*100) + \"%\" }\n",
    "        else:\n",
    "            return str(p_hat) + \"[\" + str(level*100) + \"%\" + \"CI:\" + \"(\" + str(lwr) + \",\" + str(upr) + \")]\"\n",
    "        \n",
    "    #3\n",
    "    elif method ==\"Jeff\":\n",
    "        lwr = max(0, st.beta.ppf(alpha/2, x+0.5, n-x+0.5))\n",
    "        upr = min(1, st.beta.ppf(1-alpha/2, x+0.5,n-x+0.5))\n",
    "        if inp==\"None\" :\n",
    "            return {\"est\":p_hat , \"lwr\":lwr , \"upr\":upr , \"level\":str(level*100) + \"%\" }\n",
    "        else:\n",
    "            return str(p_hat) + \"[\" + str(level*100) + \"%\" + \"CI:\" + \"(\" + str(lwr) + \",\" + str(upr) + \")]\"\n",
    "    \n",
    "    #4\n",
    "    elif method ==\"AC\":\n",
    "        z = st.norm.ppf((1+level)/2)\n",
    "        n_wave = n + z**2\n",
    "        p_wave = (x + (z**2)/2)/n_wave\n",
    "        lwr = p_wave - z * math.sqrt(p_wave*(1-p_wave)/n)\n",
    "        upr = p_wave + z * math.sqrt(p_wave*(1-p_wave)/n)\n",
    "        if inp==\"None\" :\n",
    "            return {\"est\":p_wave , \"lwr\":lwr , \"upr\":upr , \"level\":str(level*100) + \"%\" }\n",
    "        else:\n",
    "            return str(p_wave) + \"[\" + str(level*100) + \"%\" + \"CI:\" + \"(\" + str(lwr) + \",\" + str(upr) + \")]\"\n",
    "    "
   ]
  },
  {
   "cell_type": "markdown",
   "id": "b0b5d823",
   "metadata": {},
   "source": [
    "c.creat array and compare methods"
   ]
  },
  {
   "cell_type": "code",
   "execution_count": 22,
   "id": "bb2cb6b5",
   "metadata": {},
   "outputs": [
    {
     "name": "stdout",
     "output_type": "stream",
     "text": [
      "For level of 0.9\n",
      "                               confidence interval\n",
      "a. Nomal theory   0.5333[90.0%CI:(-0.2873,1.3539)]\n",
      "b. Normal method   0.5333[90.0%CI:(0.4468,0.6198)]\n",
      "b. Beta method     0.5333[90.0%CI:(0.4414,0.6235)]\n",
      "b. Jeff method     0.5333[90.0%CI:(0.4469,0.6182)]\n",
      "b.AC method        0.5324[90.0%CI:(0.4459,0.6189)]\n",
      "Jeffrey method produces the interval with the smallest width, which is 0.1713\n",
      "For level of 0.95\n",
      "                               confidence interval\n",
      "a. Nomal theory   0.5333[95.0%CI:(-0.4445,1.5111)]\n",
      "b. Normal method   0.5333[95.0%CI:(0.4303,0.6364)]\n",
      "b. Beta method     0.5333[95.0%CI:(0.4251,0.6393)]\n",
      "b. Jeff method      0.5333[95.0%CI:(0.4306,0.634)]\n",
      "b.AC method         0.532[95.0%CI:(0.4289,0.6351)]\n",
      "Jeffrey method produces the interval with the smallest width, which is 0.2034\n",
      "For level of 0.99\n",
      "                               confidence interval\n",
      "a. Nomal theory   0.5333[99.0%CI:(-0.7517,1.8184)]\n",
      "b. Normal method   0.5333[99.0%CI:(0.3979,0.6688)]\n",
      "b. Beta method     0.5333[99.0%CI:(0.3936,0.6694)]\n",
      "b. Jeff method      0.5333[99.0%CI:(0.399,0.6643)]\n",
      "b.AC method         0.531[99.0%CI:(0.3955,0.6665)]\n",
      "Jeffrey method produces the interval with the smallest width, which is 0.2653\n"
     ]
    }
   ],
   "source": [
    "import pandas as pd\n",
    "from pandas import DataFrame\n",
    "\n",
    "a=[0 for x in range(42)]\n",
    "b=[1 for y in range(48)]\n",
    "z=np.array(a+b)\n",
    "\n",
    "for level in [0.90,0.95,0.99]: #\n",
    "    print(\"For level of\",level) \n",
    "    est = round(norm_est(z,\"None\",level).get(\"est\"),4)\n",
    "    lwr = round(norm_est(z,\"None\",level).get(\"lwr\"),4)\n",
    "    upr = round(norm_est(z,\"None\",level).get(\"upr\"),4)\n",
    "    a_length = upr-lwr\n",
    "    a_interval=str(est) + \"[\" + str(level*100) + \"%\" + \"CI:\" + \"(\" + str(lwr) + \",\" + str(upr) + \")]\"\n",
    "    \n",
    "    b_length = np.array([-0.1,-0.1,0,0])\n",
    "    name = np.array([\"Normal\",\"Clopper-Pearson\",\"Jeffrey\",\"Agresti-Coull\"])\n",
    "    i = 0\n",
    "    b_interval=[]\n",
    "    for method in [\"Normal\",\"Beta\",\"Jeff\",\"AC\"]:\n",
    "        est = round(bino_est(z,method,level,\"None\").get(\"est\"),4)\n",
    "        lwr = round(bino_est(z,method,level,\"None\").get(\"lwr\"),4)\n",
    "        upr = round(bino_est(z,method,level,\"None\").get(\"upr\"),4)\n",
    "        b_length[i] = upr - lwr\n",
    "        b_interval.append(str(est) + \"[\" + str(level*100) + \"%\" + \"CI:\" + \"(\" + str(lwr) + \",\" + str(upr) + \")]\")\n",
    "        i = i + 1\n",
    "    \n",
    "    #show data via a table\n",
    "    method_lis=['a. Nomal theory','b. Normal method','b. Beta method','b. Jeff method','b.AC method']\n",
    "    data = [a_interval,b_interval[0],b_interval[1],b_interval[2],b_interval[3]]\n",
    "    df = pd.DataFrame(data, index = method_lis, columns=['confidence interval'])\n",
    "    print(df)\n",
    "    \n",
    "    #compare the length of interval produced by each method\n",
    "    min_int = round(min(a_length , b_length.min()),4) \n",
    "    if min_int == a_length:\n",
    "        print(\"Normal approximation method produces the interval with the smallest width, which is\",min_int)\n",
    "    else:\n",
    "        print(name[np.argmin(b_length)],\"method produces the interval with the smallest width, which is\",min_int)\n"
   ]
  },
  {
   "cell_type": "code",
   "execution_count": null,
   "id": "1765feff",
   "metadata": {},
   "outputs": [],
   "source": []
  }
 ],
 "metadata": {
  "kernelspec": {
   "display_name": "Python 3 (ipykernel)",
   "language": "python",
   "name": "python3"
  },
  "language_info": {
   "codemirror_mode": {
    "name": "ipython",
    "version": 3
   },
   "file_extension": ".py",
   "mimetype": "text/x-python",
   "name": "python",
   "nbconvert_exporter": "python",
   "pygments_lexer": "ipython3",
   "version": "3.9.7"
  }
 },
 "nbformat": 4,
 "nbformat_minor": 5
}
