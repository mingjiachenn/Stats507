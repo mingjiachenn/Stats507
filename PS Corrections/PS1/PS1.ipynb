{
 "cells": [
  {
   "cell_type": "markdown",
   "id": "9d78c909",
   "metadata": {},
   "source": [
    "## GSI comments\n",
    "Q0: -3 for don't provide both raw and formatted versions\n",
    "\n",
    "Q1: -1 for units aren't clear\n",
    "\n",
    "Q3: -1 for format"
   ]
  },
  {
   "cell_type": "code",
   "execution_count": 1,
   "id": "83b818b1",
   "metadata": {},
   "outputs": [],
   "source": [
    "import pandas as pd\n",
    "import numpy as np\n",
    "import scipy.stats as st\n",
    "from pandas import DataFrame\n",
    "from collections import defaultdict\n",
    "from IPython.core.display import display, HTML\n",
    "import time\n",
    "import math"
   ]
  },
  {
   "cell_type": "markdown",
   "id": "4cd57737",
   "metadata": {},
   "source": [
    "# Question 0 - Markdown warmup"
   ]
  },
  {
   "cell_type": "markdown",
   "id": "a5d2b5e1",
   "metadata": {},
   "source": [
    "### formatted markdown"
   ]
  },
  {
   "cell_type": "markdown",
   "id": "8a0092d2",
   "metadata": {},
   "source": [
    "This is *question 0* for [problem set 1](https://jbhender.github.io/Stats507/F21/ps/ps1.html) of [Stats 507](https://jbhender.github.io/Stats507/F21/).\n",
    ">Question 0 is about Markdown.\n",
    "\n",
    "The next question is about the **Fibonnaci sequence**, *Fn=Fn−2+Fn−1*. In part **a** we will define a Python function `.fib_rec()`\n",
    "Below is a …\n",
    "### Level 3 Header\n",
    "Next, we can make a bulleted list:\n",
    "* Item 1\n",
    "    - detail 1\n",
    "    - detail 2\n",
    "* Item 2\n",
    "\n",
    "Finally, we can make an enumerated list:\n",
    "1. Item 1\n",
    "2. Item 2\n",
    "3. Item 3\n"
   ]
  },
  {
   "cell_type": "markdown",
   "id": "803cdb73",
   "metadata": {},
   "source": [
    "**Corrections for PS6 Q3**\n",
    "\n",
    "**Q0: -3 for don't provide both raw and formatted versions**\n",
    "\n",
    "### raw markdown "
   ]
  },
  {
   "cell_type": "markdown",
   "id": "388de140",
   "metadata": {},
   "source": [
    "```\n",
    "This is *question 0* for [problem set 1](https://jbhender.github.io/Stats507/F21/ps/ps1.html) of [Stats 507](https://jbhender.github.io/Stats507/F21/).\n",
    ">Question 0 is about Markdown.\n",
    "\n",
    "The next question is about the **Fibonnaci sequence**, *Fn=Fn−2+Fn−1*. In part **a** we will define a Python function `.fib_rec()`\n",
    "Below is a …\n",
    "### Level 3 Header\n",
    "Next, we can make a bulleted list:\n",
    "* Item 1\n",
    "    - detail 1\n",
    "    - detail 2\n",
    "* Item 2\n",
    "\n",
    "Finally, we can make an enumerated list:\n",
    "1. Item 1\n",
    "2. Item 2\n",
    "3. Item 3\n",
    "```"
   ]
  },
  {
   "cell_type": "markdown",
   "id": "17ef3f4f",
   "metadata": {},
   "source": [
    "# Question 1 - Fibonnaci Sequence"
   ]
  },
  {
   "cell_type": "markdown",
   "id": "be584844",
   "metadata": {},
   "source": [
    "a.Write a recursive function fib_rec() that takes input n, a=0, and b=1 and returns the value of Fn for F_0 = a, and F_1 = b."
   ]
  },
  {
   "cell_type": "code",
   "execution_count": 2,
   "id": "c955fc58",
   "metadata": {},
   "outputs": [],
   "source": [
    "def fib_rec(n):\n",
    "    a,b = 0,1\n",
    "    if n == 0:\n",
    "        return a\n",
    "    elif n == 1:\n",
    "        return b\n",
    "    else:\n",
    "        return fib_rec(n-2)+fib_rec(n-1)   "
   ]
  },
  {
   "cell_type": "code",
   "execution_count": 3,
   "id": "124f341b",
   "metadata": {},
   "outputs": [
    {
     "data": {
      "text/plain": [
       "True"
      ]
     },
     "execution_count": 3,
     "metadata": {},
     "output_type": "execute_result"
    }
   ],
   "source": [
    "(fib_rec(7) == 13)and(fib_rec(11) == 89)and(fib_rec(13) == 233)"
   ]
  },
  {
   "cell_type": "markdown",
   "id": "401b7d11",
   "metadata": {},
   "source": [
    "b.Write a function fib_for() with the same signature that computes Fn by summation using a for loop."
   ]
  },
  {
   "cell_type": "code",
   "execution_count": 4,
   "id": "a29d8a8b",
   "metadata": {
    "scrolled": true
   },
   "outputs": [],
   "source": [
    "def fib_for(n):\n",
    "    a,b = 0,1\n",
    "    for i in range(n):\n",
    "        a,b = b,a+b\n",
    "    return a"
   ]
  },
  {
   "cell_type": "code",
   "execution_count": 5,
   "id": "b9db8858",
   "metadata": {
    "scrolled": true
   },
   "outputs": [
    {
     "data": {
      "text/plain": [
       "True"
      ]
     },
     "execution_count": 5,
     "metadata": {},
     "output_type": "execute_result"
    }
   ],
   "source": [
    "(fib_for(7) == 13)and(fib_for(11) == 89)and(fib_for(13) == 233)"
   ]
  },
  {
   "cell_type": "markdown",
   "id": "76fa008a",
   "metadata": {},
   "source": [
    "c.Write a function fib_whl() with the same signature that computes Fn by summation using a while loop."
   ]
  },
  {
   "cell_type": "code",
   "execution_count": 6,
   "id": "322a0644",
   "metadata": {},
   "outputs": [],
   "source": [
    "def fib_whl(n):\n",
    "    a,b = 0,1\n",
    "    i = 1\n",
    "    while i <= n:\n",
    "        a,b = b,a+b\n",
    "        i = i+1\n",
    "    return a"
   ]
  },
  {
   "cell_type": "code",
   "execution_count": 7,
   "id": "867e9f10",
   "metadata": {},
   "outputs": [
    {
     "data": {
      "text/plain": [
       "True"
      ]
     },
     "execution_count": 7,
     "metadata": {},
     "output_type": "execute_result"
    }
   ],
   "source": [
    "(fib_whl(7) == 13)and(fib_whl(11) == 89)and(fib_whl(13) == 233)"
   ]
  },
  {
   "cell_type": "markdown",
   "id": "d1014f44",
   "metadata": {},
   "source": [
    "d. Write a function fib_rnd() with the same signature that computes Fn using the rounding method."
   ]
  },
  {
   "cell_type": "code",
   "execution_count": 8,
   "id": "04140ff9",
   "metadata": {},
   "outputs": [],
   "source": [
    "def fib_rnd(n):\n",
    "    r = (1+math.sqrt(5))/2\n",
    "    return round(r**n/math.sqrt(5))"
   ]
  },
  {
   "cell_type": "code",
   "execution_count": 9,
   "id": "daab38c6",
   "metadata": {},
   "outputs": [
    {
     "data": {
      "text/plain": [
       "True"
      ]
     },
     "execution_count": 9,
     "metadata": {},
     "output_type": "execute_result"
    }
   ],
   "source": [
    "(fib_rnd(7)==13)and(fib_rnd(11)==89)and(fib_rnd(13)==233)"
   ]
  },
  {
   "cell_type": "markdown",
   "id": "d5dc21aa",
   "metadata": {},
   "source": [
    "e. Write a function fib_flr() with the same signature that computes Fn using the truncation method"
   ]
  },
  {
   "cell_type": "code",
   "execution_count": 10,
   "id": "8f8cbc84",
   "metadata": {},
   "outputs": [],
   "source": [
    "def fib_flr(n):\n",
    "    r = (1+math.sqrt(5))/2\n",
    "    return math.floor(r**n/math.sqrt(5)+1/2)"
   ]
  },
  {
   "cell_type": "code",
   "execution_count": 11,
   "id": "4f2aa556",
   "metadata": {
    "scrolled": true
   },
   "outputs": [
    {
     "data": {
      "text/plain": [
       "True"
      ]
     },
     "execution_count": 11,
     "metadata": {},
     "output_type": "execute_result"
    }
   ],
   "source": [
    "(fib_flr(7) == 13)and(fib_flr(11) == 89)and(fib_flr(13) == 233)"
   ]
  },
  {
   "cell_type": "markdown",
   "id": "e37dbce8",
   "metadata": {},
   "source": [
    "**Corrections for PS6 Q3**\n",
    "\n",
    "**Q1: -1 for units aren't clear**\n",
    "\n",
    "f.compare the median computation time"
   ]
  },
  {
   "cell_type": "code",
   "execution_count": 12,
   "id": "df6a3c8a",
   "metadata": {
    "scrolled": true
   },
   "outputs": [],
   "source": [
    "lis = [10, 20, 30]\n",
    "\n",
    "# get the median computation time of fuction rec_time\n",
    "def rec_time(n):\n",
    "    tm = []\n",
    "    for i in range(1000):\n",
    "        start = time.time()\n",
    "        fib_rec(n)\n",
    "        end = time.time()\n",
    "        tm.append(end-start)\n",
    "        return(round(np.median(tm)*1e6,2))\n",
    "\n",
    "# get the median computation time of fuction for_time\n",
    "def for_time(n):\n",
    "    tm = []\n",
    "    for i in range(1000):\n",
    "        start = time.time()\n",
    "        fib_for(n)\n",
    "        end = time.time()\n",
    "        tm.append(end-start)\n",
    "        return(round(np.median(tm)*1e6,2))\n",
    "\n",
    "# get the median computation time of fuction whl_time\n",
    "def whl_time(n):\n",
    "    tm = []\n",
    "    for i in range(1000):\n",
    "        start = time.time()\n",
    "        fib_whl(n)\n",
    "        end = time.time()\n",
    "        tm.append(end-start)\n",
    "        return(round(np.median(tm)*1e6,2))\n",
    "    \n",
    "# get the median computation time of fuction rnd_time\n",
    "def rnd_time(n):\n",
    "    tm = []\n",
    "    for i in range(1000):\n",
    "        start = time.time()\n",
    "        fib_rnd(n)\n",
    "        end = time.time()\n",
    "        tm.append(end-start)\n",
    "        return(round(np.median(tm)*1e6,2))\n",
    "\n",
    "# get the median computation time of fuction flr_time\n",
    "def flr_time(n):\n",
    "    tm = []\n",
    "    for i in range(1000):\n",
    "        start = time.time()\n",
    "        fib_flr(n)\n",
    "        end = time.time()\n",
    "        tm.append(end-start)\n",
    "        return(round(np.median(tm)*1e6,2))\n",
    "\n",
    "data = {'fib_rec': [rec_time(lis[0]), rec_time(lis[1]), rec_time(lis[2])],\n",
    "        'fib_for': [for_time(lis[0]), for_time(lis[1]), for_time(lis[2])],\n",
    "        'fib_whl': [whl_time(lis[0]), whl_time(lis[1]), whl_time(lis[2])],\n",
    "        'fib_rnd': [rnd_time(lis[0]), rnd_time(lis[1]), rnd_time(lis[2])],\n",
    "        'fib_flr': [flr_time(lis[0]), flr_time(lis[1]), flr_time(lis[2])]}\n",
    "frame = DataFrame(data, index = lis)"
   ]
  },
  {
   "cell_type": "code",
   "execution_count": 13,
   "id": "8e2d500c",
   "metadata": {},
   "outputs": [
    {
     "data": {
      "text/html": [
       "<div>\n",
       "<style scoped>\n",
       "    .dataframe tbody tr th:only-of-type {\n",
       "        vertical-align: middle;\n",
       "    }\n",
       "\n",
       "    .dataframe tbody tr th {\n",
       "        vertical-align: top;\n",
       "    }\n",
       "\n",
       "    .dataframe thead th {\n",
       "        text-align: right;\n",
       "    }\n",
       "</style>\n",
       "<table border=\"1\" class=\"dataframe\">\n",
       "  <thead>\n",
       "    <tr style=\"text-align: right;\">\n",
       "      <th></th>\n",
       "      <th>fib_rec</th>\n",
       "      <th>fib_for</th>\n",
       "      <th>fib_whl</th>\n",
       "      <th>fib_rnd</th>\n",
       "      <th>fib_flr</th>\n",
       "    </tr>\n",
       "  </thead>\n",
       "  <tbody>\n",
       "    <tr>\n",
       "      <th>10</th>\n",
       "      <td>46.73</td>\n",
       "      <td>1.19</td>\n",
       "      <td>2.15</td>\n",
       "      <td>5.96</td>\n",
       "      <td>2.15</td>\n",
       "    </tr>\n",
       "    <tr>\n",
       "      <th>20</th>\n",
       "      <td>4741.91</td>\n",
       "      <td>2.15</td>\n",
       "      <td>0.72</td>\n",
       "      <td>0.95</td>\n",
       "      <td>1.19</td>\n",
       "    </tr>\n",
       "    <tr>\n",
       "      <th>30</th>\n",
       "      <td>314784.05</td>\n",
       "      <td>2.15</td>\n",
       "      <td>2.15</td>\n",
       "      <td>1.19</td>\n",
       "      <td>1.19</td>\n",
       "    </tr>\n",
       "  </tbody>\n",
       "</table>\n",
       "</div>"
      ],
      "text/plain": [
       "      fib_rec  fib_for  fib_whl  fib_rnd  fib_flr\n",
       "10      46.73     1.19     2.15     5.96     2.15\n",
       "20    4741.91     2.15     0.72     0.95     1.19\n",
       "30  314784.05     2.15     2.15     1.19     1.19"
      ]
     },
     "execution_count": 13,
     "metadata": {},
     "output_type": "execute_result"
    }
   ],
   "source": [
    "frame"
   ]
  },
  {
   "cell_type": "markdown",
   "id": "9683e0c2",
   "metadata": {},
   "source": [
    "# Question2- Pascal’s Triangle"
   ]
  },
  {
   "cell_type": "code",
   "execution_count": 14,
   "id": "acf2e07f",
   "metadata": {},
   "outputs": [],
   "source": [
    "def triangle_row(n):\n",
    "    a = 1\n",
    "    lis = [a]\n",
    "    for i in range(n):\n",
    "        i = i+1\n",
    "        a = int(a*(n+1-i)/i)\n",
    "        lis.append(a)\n",
    "    return lis"
   ]
  },
  {
   "cell_type": "code",
   "execution_count": 15,
   "id": "9e9a7954",
   "metadata": {},
   "outputs": [
    {
     "data": {
      "text/plain": [
       "[1, 5, 10, 10, 5, 1]"
      ]
     },
     "execution_count": 15,
     "metadata": {},
     "output_type": "execute_result"
    }
   ],
   "source": [
    "triangle_row(5)"
   ]
  },
  {
   "cell_type": "code",
   "execution_count": 16,
   "id": "25ae4bed",
   "metadata": {},
   "outputs": [],
   "source": [
    "def triangle(n):\n",
    "    i = 0\n",
    "    #get the length of the maximum item in the tiangle\n",
    "    if n % 2 == 0:\n",
    "        max_item = triangle_row(n)[int(n/2)]\n",
    "    else:\n",
    "        max_item = triangle_row(n)[int((n+1)/2)]\n",
    "    max_length = len(str(max_item))\n",
    "    \n",
    "    while i<= n:\n",
    "        list = triangle_row(i)\n",
    "        string = ''\n",
    "        j = 0\n",
    "        while j<len(list):\n",
    "            if j == 0:\n",
    "                string = str(list[j]).center(max_length)\n",
    "            else:\n",
    "                string = string + ' ' + str(list[j]).center(max_length)\n",
    "            j = j+1 \n",
    "            \n",
    "        print(string.center((max_length+2)*n)) #adjust the overall position of the triangle \n",
    "        i=i+1"
   ]
  },
  {
   "cell_type": "code",
   "execution_count": 17,
   "id": "a6c0dbd1",
   "metadata": {},
   "outputs": [
    {
     "name": "stdout",
     "output_type": "stream",
     "text": [
      "                                            1                                             \n",
      "                                         1    1                                           \n",
      "                                       1    2    1                                        \n",
      "                                    1    3    3    1                                      \n",
      "                                  1    4    6    4    1                                   \n",
      "                               1    5    10   10   5    1                                 \n",
      "                             1    6    15   20   15   6    1                              \n",
      "                          1    7    21   35   35   21   7    1                            \n",
      "                        1    8    28   56   70   56   28   8    1                         \n",
      "                     1    9    36   84  126  126   84   36   9    1                       \n",
      "                   1    10   45  120  210  252  210  120   45   10   1                    \n",
      "                1    11   55  165  330  462  462  330  165   55   11   1                  \n",
      "              1    12   66  220  495  792  924  792  495  220   66   12   1               \n",
      "           1    13   78  286  715  1287 1716 1716 1287 715  286   78   13   1             \n",
      "         1    14   91  364  1001 2002 3003 3432 3003 2002 1001 364   91   14   1          \n",
      "      1    15  105  455  1365 3003 5005 6435 6435 5005 3003 1365 455  105   15   1        \n"
     ]
    }
   ],
   "source": [
    "triangle(15)"
   ]
  },
  {
   "cell_type": "markdown",
   "id": "95fae25c",
   "metadata": {},
   "source": [
    "# Question 3 - Statistics 101 "
   ]
  },
  {
   "cell_type": "markdown",
   "id": "810e1fca",
   "metadata": {},
   "source": [
    "a.return a point and interval estimate for the mean based on Normal theory"
   ]
  },
  {
   "cell_type": "code",
   "execution_count": 18,
   "id": "52a408ca",
   "metadata": {},
   "outputs": [],
   "source": [
    "def norm_est(data,inp,level):\n",
    "    x_bar,se_x = data.mean(),data.std()  #get the mean and standard error\n",
    "    z = st.norm.ppf((1+level)/2)  #get Gaussian multiplier\n",
    "    lwr = x_bar-se_x*z\n",
    "    upr = x_bar+se_x*z\n",
    "    level = str(level*100)+\"%\"\n",
    "    if inp==\"None\":\n",
    "        return {\"est\":x_bar , \"lwr\":lwr , \"upr\":upr , \"level\":level }\n",
    "    else:\n",
    "        return str(round(x_bar,4)) + \"[\" + str(level*100) + \"%\" + \"CI:\" + \"(\" + str(round(x_bar-se_x*z,4)) + \",\" + str(round(x_bar+se_x*z,4)) + \")]\""
   ]
  },
  {
   "cell_type": "markdown",
   "id": "5b39114b",
   "metadata": {},
   "source": [
    "b.compute a confidence interval based on Binomial experiment"
   ]
  },
  {
   "cell_type": "code",
   "execution_count": 19,
   "id": "311b386a",
   "metadata": {},
   "outputs": [],
   "source": [
    "def bino_est(data,method,level,inp):\n",
    "    x = sum(data==1)\n",
    "    n=data.size\n",
    "    p_hat=x/n\n",
    "    alpha = 1 - level\n",
    "    \n",
    "    #1\n",
    "    if method == \"Normal\":\n",
    "        z = st.norm.ppf((1+level)/2)\n",
    "        lwr = p_hat - z * math.sqrt(p_hat*(1-p_hat)/n)\n",
    "        upr = p_hat + z * math.sqrt(p_hat*(1-p_hat)/n)\n",
    "        level = str(level*100)+\"%\"\n",
    "        condition = min(n*p_hat,n*(1-p_hat))\n",
    "        if condition <= 12:\n",
    "            print(\"The approximation is not adequate!\")\n",
    "        if inp==\"None\":\n",
    "            return {\"est\":p_hat , \"lwr\":lwr , \"upr\":upr , \"level\":str(level*100) + \"%\"}\n",
    "        else:\n",
    "            return str(p_hat) + \"[\" + str(level*100) + \"%\" + \"CI:\" + \"(\" + str(lwr) + \",\" + str(upr) + \")]\"\n",
    "        \n",
    "    #2\n",
    "    elif method ==\"CP\":\n",
    "        lwr = st.beta.ppf(alpha/2, x, n-x+1)\n",
    "        upr = st.beta.ppf(1-alpha/2, x+1, n-x)\n",
    "        if inp==\"None\" :\n",
    "            return {\"est\":p_hat , \"lwr\":lwr , \"upr\":upr , \"level\":str(level*100) + \"%\" }\n",
    "        else:\n",
    "            return str(p_hat) + \"[\" + str(level*100) + \"%\" + \"CI:\" + \"(\" + str(lwr) + \",\" + str(upr) + \")]\"\n",
    "        \n",
    "    #3\n",
    "    elif method ==\"Jeffery\":\n",
    "        lwr = max(0, st.beta.ppf(alpha/2, x+0.5, n-x+0.5))\n",
    "        upr = min(1, st.beta.ppf(1-alpha/2, x+0.5,n-x+0.5))\n",
    "        if inp==\"None\" :\n",
    "            return {\"est\":p_hat , \"lwr\":lwr , \"upr\":upr , \"level\":str(level*100) + \"%\" }\n",
    "        else:\n",
    "            return str(p_hat) + \"[\" + str(level*100) + \"%\" + \"CI:\" + \"(\" + str(lwr) + \",\" + str(upr) + \")]\"\n",
    "    \n",
    "    #4\n",
    "    elif method ==\"AC\":\n",
    "        z = st.norm.ppf((1+level)/2)\n",
    "        n_wave = n + z**2\n",
    "        p_wave = (x + (z**2)/2)/n_wave\n",
    "        lwr = p_wave - z * math.sqrt(p_wave*(1-p_wave)/n)\n",
    "        upr = p_wave + z * math.sqrt(p_wave*(1-p_wave)/n)\n",
    "        if inp==\"None\" :\n",
    "            return {\"est\":p_wave , \"lwr\":lwr , \"upr\":upr , \"level\":str(level*100) + \"%\" }\n",
    "        else:\n",
    "            return str(p_wave) + \"[\" + str(level*100) + \"%\" + \"CI:\" + \"(\" + str(lwr) + \",\" + str(upr) + \")]\"\n",
    "    "
   ]
  },
  {
   "cell_type": "markdown",
   "id": "b0b5d823",
   "metadata": {},
   "source": [
    "**Corrections for PS6 Q3**\n",
    "\n",
    "**Q3: -1 for format**\n",
    "\n",
    "c.creat array and compare methods"
   ]
  },
  {
   "cell_type": "code",
   "execution_count": 20,
   "id": "bb2cb6b5",
   "metadata": {},
   "outputs": [
    {
     "data": {
      "text/html": [
       "<div>\n",
       "<style scoped>\n",
       "    .dataframe tbody tr th:only-of-type {\n",
       "        vertical-align: middle;\n",
       "    }\n",
       "\n",
       "    .dataframe tbody tr th {\n",
       "        vertical-align: top;\n",
       "    }\n",
       "\n",
       "    .dataframe thead th {\n",
       "        text-align: right;\n",
       "    }\n",
       "</style>\n",
       "<table border=\"1\" class=\"dataframe\">\n",
       "  <thead>\n",
       "    <tr style=\"text-align: right;\">\n",
       "      <th></th>\n",
       "      <th>Mean</th>\n",
       "      <th>Normal</th>\n",
       "      <th>CP</th>\n",
       "      <th>Jeffery</th>\n",
       "      <th>AC</th>\n",
       "    </tr>\n",
       "    <tr>\n",
       "      <th>CI</th>\n",
       "      <th></th>\n",
       "      <th></th>\n",
       "      <th></th>\n",
       "      <th></th>\n",
       "      <th></th>\n",
       "    </tr>\n",
       "  </thead>\n",
       "  <tbody>\n",
       "    <tr>\n",
       "      <th>90 %</th>\n",
       "      <td>[(-0.2873,1.3539)]</td>\n",
       "      <td>[(0.4468,0.6198)]</td>\n",
       "      <td>[(0.4414,0.6235)]</td>\n",
       "      <td>[(0.4469,0.6182)]</td>\n",
       "      <td>[(0.4459,0.6189)]</td>\n",
       "    </tr>\n",
       "    <tr>\n",
       "      <th>95 %</th>\n",
       "      <td>[(-0.4445,1.5111)]</td>\n",
       "      <td>[(0.4303,0.6364)]</td>\n",
       "      <td>[(0.4251,0.6393)]</td>\n",
       "      <td>[(0.4306,0.634)]</td>\n",
       "      <td>[(0.4289,0.6351)]</td>\n",
       "    </tr>\n",
       "    <tr>\n",
       "      <th>99 %</th>\n",
       "      <td>[(-0.7517,1.8184)]</td>\n",
       "      <td>[(0.3979,0.6688)]</td>\n",
       "      <td>[(0.3936,0.6694)]</td>\n",
       "      <td>[(0.399,0.6643)]</td>\n",
       "      <td>[(0.3955,0.6665)]</td>\n",
       "    </tr>\n",
       "  </tbody>\n",
       "</table>\n",
       "</div>"
      ],
      "text/plain": [
       "                    Mean             Normal                 CP  \\\n",
       "CI                                                               \n",
       "90 %  [(-0.2873,1.3539)]  [(0.4468,0.6198)]  [(0.4414,0.6235)]   \n",
       "95 %  [(-0.4445,1.5111)]  [(0.4303,0.6364)]  [(0.4251,0.6393)]   \n",
       "99 %  [(-0.7517,1.8184)]  [(0.3979,0.6688)]  [(0.3936,0.6694)]   \n",
       "\n",
       "                Jeffery                 AC  \n",
       "CI                                          \n",
       "90 %  [(0.4469,0.6182)]  [(0.4459,0.6189)]  \n",
       "95 %   [(0.4306,0.634)]  [(0.4289,0.6351)]  \n",
       "99 %   [(0.399,0.6643)]  [(0.3955,0.6665)]  "
      ]
     },
     "metadata": {},
     "output_type": "display_data"
    }
   ],
   "source": [
    "a = [0 for x in range(42)]\n",
    "b = [1 for y in range(48)]\n",
    "z = np.array(a+b)\n",
    "\n",
    "#Define a function to calculate the confidence interval for each method\n",
    "def interval(method, level):\n",
    "    lst = []\n",
    "    if method == 'Mean':\n",
    "        lwr = round(norm_est(z,\"None\",level).get(\"lwr\"),4)\n",
    "        upr = round(norm_est(z,\"None\",level).get(\"upr\"),4)\n",
    "        interval = \"(\" + str(lwr) + \",\" + str(upr) + \")\"\n",
    "    else:\n",
    "        lwr = round(bino_est(z,method,level,\"None\").get(\"lwr\"),4)\n",
    "        upr = round(bino_est(z,method,level,\"None\").get(\"upr\"),4)\n",
    "        interval = \"(\" + str(lwr) + \",\" + str(upr) + \")\"\n",
    "    lst.append(interval)\n",
    "    return lst\n",
    "\n",
    "df = pd.DataFrame({'CI': ['90 %','95 %','99 %']})\n",
    "df = df.set_index('CI')\n",
    "\n",
    "#Build the table\n",
    "for method in ['Mean', 'Normal', 'CP', 'Jeffery', 'AC']:\n",
    "    int_lst = []\n",
    "    for level in [0.9,0.95,0.99]:\n",
    "        int_lst.append(interval(method,level))\n",
    "    df[method] = int_lst \n",
    "\n",
    "display(df)"
   ]
  },
  {
   "cell_type": "code",
   "execution_count": 22,
   "id": "1765feff",
   "metadata": {},
   "outputs": [
    {
     "name": "stdout",
     "output_type": "stream",
     "text": [
      "For level of 0.9\n",
      "Jeffery method has the smallest width: 0.1713\n",
      "For level of 0.95\n",
      "Jeffery method has the smallest width: 0.2034\n",
      "For level of 0.99\n",
      "Jeffery method has the smallest width: 0.2653\n"
     ]
    }
   ],
   "source": [
    "for level in [0.90,0.95,0.99]: \n",
    "    print(\"For level of\",level) \n",
    "    lwr = round(norm_est(z,\"None\",level).get(\"lwr\"),4)\n",
    "    upr = round(norm_est(z,\"None\",level).get(\"upr\"),4)\n",
    "    a_length = upr-lwr\n",
    "    \n",
    "    b_length = np.array([-0.1,-0.1,0,0])\n",
    "    i = 0\n",
    "    name = [\"Normal\",\"CP\",\"Jeffery\",\"AC\"]\n",
    "    for method in name:\n",
    "        lwr = round(bino_est(z,method,level,\"None\").get(\"lwr\"),4)\n",
    "        upr = round(bino_est(z,method,level,\"None\").get(\"upr\"),4)\n",
    "        b_length[i] = upr - lwr\n",
    "        i = i + 1  \n",
    "        \n",
    "    #compare the length of interval produced by each method\n",
    "    min_int = round(min(a_length , b_length.min()),4) \n",
    "    if min_int == a_length:\n",
    "        print(\"Normal approximation method has the smallest width:\",min_int)\n",
    "    else:\n",
    "        print(name[np.argmin(b_length)],\"method has the smallest width:\",min_int)"
   ]
  }
 ],
 "metadata": {
  "jupytext": {
   "formats": "ipynb,auto:light"
  },
  "kernelspec": {
   "display_name": "Python 3 (ipykernel)",
   "language": "python",
   "name": "python3"
  },
  "language_info": {
   "codemirror_mode": {
    "name": "ipython",
    "version": 3
   },
   "file_extension": ".py",
   "mimetype": "text/x-python",
   "name": "python",
   "nbconvert_exporter": "python",
   "pygments_lexer": "ipython3",
   "version": "3.8.12"
  }
 },
 "nbformat": 4,
 "nbformat_minor": 5
}
